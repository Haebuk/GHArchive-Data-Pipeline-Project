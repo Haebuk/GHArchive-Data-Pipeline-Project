{
 "cells": [
  {
   "cell_type": "code",
   "execution_count": 2,
   "metadata": {},
   "outputs": [],
   "source": [
    "import gzip\n",
    "import json"
   ]
  },
  {
   "cell_type": "code",
   "execution_count": 3,
   "metadata": {},
   "outputs": [],
   "source": [
    "# decompress json.gz\n",
    "with gzip.open(\"../data/2022-01-01-10.json.gz\", \"rb\") as f:\n",
    "    data = f.read().decode()\n",
    "\n",
    "dicts = data.strip().split(\"\\n\")\n",
    "\n",
    "data_list = []\n",
    "for d in dicts:\n",
    "    data_list.append(json.loads(d))"
   ]
  },
  {
   "cell_type": "code",
   "execution_count": 12,
   "metadata": {},
   "outputs": [],
   "source": [
    "def save_dicts_to_json_gzip_file(dicts_list, filename):\n",
    "    with gzip.open(filename, 'wt', encoding='utf-8') as outfile:\n",
    "        outfile.write(\"[\")\n",
    "        first_dict = True\n",
    "        for d in dicts_list:\n",
    "            if not first_dict:\n",
    "                outfile.write(\",\")\n",
    "            json.dump(d, outfile)\n",
    "            first_dict = False\n",
    "        outfile.write(\"]\")"
   ]
  },
  {
   "cell_type": "code",
   "execution_count": 5,
   "metadata": {},
   "outputs": [],
   "source": [
    "with gzip.open(\"../data/2022-01-01-10.json.gz\", \"wt\", encoding=\"utf-8\") as f:\n",
    "    json.dump(data_list, f)"
   ]
  },
  {
   "cell_type": "code",
   "execution_count": 8,
   "metadata": {},
   "outputs": [],
   "source": [
    "save_dicts_to_json_gzip_file(data_list, \"../data/2022-01-01-10.json.gz\")"
   ]
  },
  {
   "cell_type": "code",
   "execution_count": 10,
   "metadata": {},
   "outputs": [
    {
     "data": {
      "text/plain": [
       "'[{\"id\": \"19543141248\", \"type\": \"PushEvent\", \"actor\": {\"id\": 43733305, \"login\": \"yanonono\", \"display_'"
      ]
     },
     "execution_count": 10,
     "metadata": {},
     "output_type": "execute_result"
    }
   ],
   "source": [
    "data[:100]"
   ]
  },
  {
   "cell_type": "code",
   "execution_count": null,
   "metadata": {},
   "outputs": [],
   "source": [
    "\n"
   ]
  }
 ],
 "metadata": {
  "kernelspec": {
   "display_name": "venv",
   "language": "python",
   "name": "python3"
  },
  "language_info": {
   "codemirror_mode": {
    "name": "ipython",
    "version": 3
   },
   "file_extension": ".py",
   "mimetype": "text/x-python",
   "name": "python",
   "nbconvert_exporter": "python",
   "pygments_lexer": "ipython3",
   "version": "3.11.1"
  },
  "orig_nbformat": 4
 },
 "nbformat": 4,
 "nbformat_minor": 2
}
