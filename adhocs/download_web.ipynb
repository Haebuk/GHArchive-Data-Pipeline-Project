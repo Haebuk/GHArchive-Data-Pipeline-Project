{
 "cells": [
  {
   "cell_type": "code",
   "execution_count": 4,
   "metadata": {},
   "outputs": [],
   "source": [
    "import requests\n",
    "import duckdb"
   ]
  },
  {
   "cell_type": "code",
   "execution_count": 3,
   "metadata": {},
   "outputs": [],
   "source": [
    "# Define the URL\n",
    "url = 'https://data.gharchive.org/2023-01-01-0.json.gz'\n",
    "\n",
    "# Define a User-Agent header string that describes the client making the request\n",
    "headers = {\n",
    "    'User-Agent': 'Mozilla/5.0'\n",
    "}\n",
    "\n",
    "data = requests.get(url, headers=headers)\n",
    "with open('../2023-01-01-0.json.gz', 'wb') as f:\n",
    "    f.write(data.content)"
   ]
  },
  {
   "cell_type": "code",
   "execution_count": 5,
   "metadata": {},
   "outputs": [],
   "source": [
    "columns = {\n",
    "    'id': 'VARCHAR',\n",
    "    'type': 'VARCHAR',\n",
    "    'actor': 'STRUCT(id INTEGER, login VARCHAR, display_login VARCHAR, gravatar_id VARCHAR, url VARCHAR, avatar_url VARCHAR)',\n",
    "    'repo': 'STRUCT(id INTEGER, name VARCHAR, url VARCHAR)',\n",
    "    'created_at': 'VARCHAR',\n",
    "    'org': 'STRUCT(id INTEGER, login VARCHAR, gravatar_id VARCHAR, url VARCHAR, avatar_url VARCHAR)',\n",
    "}"
   ]
  },
  {
   "cell_type": "code",
   "execution_count": 7,
   "metadata": {},
   "outputs": [],
   "source": [
    "df = duckdb.sql(\n",
    "    f\"\"\"\n",
    "    select\n",
    "        id,\n",
    "        type,\n",
    "        actor,\n",
    "        repo,\n",
    "        strptime(created_at, '%Y-%m-%dT%H:%M:%SZ') as created_at,\n",
    "    from read_ndjson('../2023-01-01-0.json.gz', columns={columns})\n",
    "    \"\"\"\n",
    ")"
   ]
  },
  {
   "cell_type": "code",
   "execution_count": 8,
   "metadata": {},
   "outputs": [
    {
     "name": "stdout",
     "output_type": "stream",
     "text": [
      "┌─────────────┬──────────────────────┬──────────────────────┬────────────────────────────────────┬─────────────────────┐\n",
      "│     id      │         type         │        actor         │                repo                │     created_at      │\n",
      "│   varchar   │       varchar        │ struct(id integer,…  │ struct(id integer, \"name\" varcha…  │      timestamp      │\n",
      "├─────────────┼──────────────────────┼──────────────────────┼────────────────────────────────────┼─────────────────────┤\n",
      "│ 26163418658 │ PushEvent            │ {'id': 119809980, …  │ {'id': 582174284, 'name': ehwu10…  │ 2023-01-01 00:00:00 │\n",
      "│ 26163418659 │ PushEvent            │ {'id': 77187908, '…  │ {'id': 583140987, 'name': Cefqrn…  │ 2023-01-01 00:00:00 │\n",
      "│ 26163418660 │ IssuesEvent          │ {'id': 121737278, …  │ {'id': 383940088, 'name': Shadow…  │ 2023-01-01 00:00:00 │\n",
      "│ 26163418664 │ WatchEvent           │ {'id': 89544871, '…  │ {'id': 2663796, 'name': lexik/Le…  │ 2023-01-01 00:00:00 │\n",
      "│ 26163418665 │ PushEvent            │ {'id': 8517910, 'l…  │ {'id': 410004154, 'name': Lombiq…  │ 2023-01-01 00:00:00 │\n",
      "│ 26163418667 │ PushEvent            │ {'id': 41898282, '…  │ {'id': 250035045, 'name': Zamula…  │ 2023-01-01 00:00:00 │\n",
      "│ 26163418668 │ PushEvent            │ {'id': 118964436, …  │ {'id': 583726411, 'name': SS7SS/…  │ 2023-01-01 00:00:00 │\n",
      "│ 26163418676 │ CreateEvent          │ {'id': 49699333, '…  │ {'id': 441938516, 'name': sonusa…  │ 2023-01-01 00:00:00 │\n",
      "│ 26163418680 │ PushEvent            │ {'id': 41898282, '…  │ {'id': 376650499, 'name': harper…  │ 2023-01-01 00:00:00 │\n",
      "│ 26163418682 │ PushEvent            │ {'id': 21151734, '…  │ {'id': 480103899, 'name': drphil…  │ 2023-01-01 00:00:00 │\n",
      "│      ·      │     ·                │          ·           │                 ·                  │          ·          │\n",
      "│      ·      │     ·                │          ·           │                 ·                  │          ·          │\n",
      "│      ·      │     ·                │          ·           │                 ·                  │          ·          │\n",
      "│ 26163453457 │ PublicEvent          │ {'id': 10368000, '…  │ {'id': 452960148, 'name': jlarmi…  │ 2023-01-01 00:05:33 │\n",
      "│ 26163453460 │ PushEvent            │ {'id': 89333348, '…  │ {'id': 454515311, 'name': syfqsa…  │ 2023-01-01 00:05:33 │\n",
      "│ 26163453461 │ PushEvent            │ {'id': 118835576, …  │ {'id': 583966063, 'name': bialas…  │ 2023-01-01 00:05:33 │\n",
      "│ 26163453465 │ PushEvent            │ {'id': 41898282, '…  │ {'id': 568556529, 'name': andrea…  │ 2023-01-01 00:05:33 │\n",
      "│ 26163453469 │ IssuesEvent          │ {'id': 6250771, 'l…  │ {'id': 100711978, 'name': btcpay…  │ 2023-01-01 00:05:34 │\n",
      "│ 26163453470 │ PushEvent            │ {'id': 118118912, …  │ {'id': 572769368, 'name': mdp-fo…  │ 2023-01-01 00:05:34 │\n",
      "│ 26163453478 │ CreateEvent          │ {'id': 66690702, '…  │ {'id': 584020003, 'name': League…  │ 2023-01-01 00:05:34 │\n",
      "│ 26163453479 │ PushEvent            │ {'id': 117830479, …  │ {'id': 563848699, 'name': mmagdy…  │ 2023-01-01 00:05:34 │\n",
      "│ 26163453480 │ DeleteEvent          │ {'id': 37933096, '…  │ {'id': 127434036, 'name': r-ryan…  │ 2023-01-01 00:05:34 │\n",
      "│ 26163453481 │ PullRequestReviewE…  │ {'id': 41898282, '…  │ {'id': 231674050, 'name': aws/co…  │ 2023-01-01 00:05:34 │\n",
      "├─────────────┴──────────────────────┴──────────────────────┴────────────────────────────────────┴─────────────────────┤\n",
      "│ ? rows (>9999 rows, 20 shown)                                                                              5 columns │\n",
      "└──────────────────────────────────────────────────────────────────────────────────────────────────────────────────────┘\n",
      "\n"
     ]
    }
   ],
   "source": [
    "df.show()"
   ]
  },
  {
   "cell_type": "code",
   "execution_count": null,
   "metadata": {},
   "outputs": [],
   "source": []
  }
 ],
 "metadata": {
  "kernelspec": {
   "display_name": "venv",
   "language": "python",
   "name": "python3"
  },
  "language_info": {
   "codemirror_mode": {
    "name": "ipython",
    "version": 3
   },
   "file_extension": ".py",
   "mimetype": "text/x-python",
   "name": "python",
   "nbconvert_exporter": "python",
   "pygments_lexer": "ipython3",
   "version": "3.10.10"
  },
  "orig_nbformat": 4
 },
 "nbformat": 4,
 "nbformat_minor": 2
}
