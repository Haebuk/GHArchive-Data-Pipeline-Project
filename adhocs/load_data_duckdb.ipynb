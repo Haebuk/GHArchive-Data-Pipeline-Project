{
 "cells": [
  {
   "cell_type": "code",
   "execution_count": 2,
   "metadata": {},
   "outputs": [],
   "source": [
    "import duckdb"
   ]
  },
  {
   "cell_type": "code",
   "execution_count": null,
   "metadata": {},
   "outputs": [],
   "source": [
    "\"id\": pl.Utf8,\n",
    "\"type\": pl.Utf8,\n",
    "\"actor\": pl.Struct(\n",
    "    {\n",
    "        \"id\": pl.Int32,\n",
    "        \"login\": pl.Utf8,\n",
    "        \"display_login\": pl.Utf8,\n",
    "        \"gravatar_id\": pl.Utf8,\n",
    "        \"url\": pl.Utf8,\n",
    "        \"avatar_url\": pl.Utf8,\n",
    "    }\n",
    "),\n",
    "\"repo\": pl.Struct(\n",
    "    {\n",
    "        \"id\": pl.Int32,\n",
    "        \"name\": pl.Utf8,\n",
    "        \"url\": pl.Utf8,\n",
    "    }\n",
    "),\n",
    "\"public\": pl.Boolean,\n",
    "\"created_at\": pl.Utf8,\n",
    "\"org\": pl.Struct(\n",
    "    {\n",
    "        \"id\": pl.Int32,\n",
    "        \"login\": pl.Utf8,\n",
    "        \"gravatar_id\": pl.Utf8,\n",
    "        \"url\": pl.Utf8,\n",
    "        \"avatar_url\": pl.Utf8,\n",
    "    }\n",
    "),\n",
    "\"other\": pl.Utf8,"
   ]
  },
  {
   "cell_type": "code",
   "execution_count": 8,
   "metadata": {},
   "outputs": [],
   "source": [
    "columns = {\n",
    "    'id': 'VARCHAR',\n",
    "    'type': 'VARCHAR',\n",
    "    'actor': 'STRUCT(id INTEGER, login VARCHAR, display_login VARCHAR, gravatar_id VARCHAR, url VARCHAR, avatar_url VARCHAR)',\n",
    "    'repo': 'STRUCT(id INTEGER, name VARCHAR, url VARCHAR)',\n",
    "    'created_at': 'VARCHAR',\n",
    "    'org': 'STRUCT(id INTEGER, login VARCHAR, gravatar_id VARCHAR, url VARCHAR, avatar_url VARCHAR)',\n",
    "}"
   ]
  },
  {
   "cell_type": "code",
   "execution_count": 14,
   "metadata": {},
   "outputs": [],
   "source": [
    "df = duckdb.sql(\n",
    "    f\"\"\"\n",
    "    select\n",
    "        id,\n",
    "        type,\n",
    "        actor,\n",
    "        repo,\n",
    "        strptime(created_at, '%Y-%m-%dT%H:%M:%SZ') as created_at,\n",
    "    from read_ndjson('../data/raw/2023/03/2023-03-01-0.json.gz', columns={columns})\n",
    "    \"\"\"\n",
    ")"
   ]
  },
  {
   "cell_type": "code",
   "execution_count": 15,
   "metadata": {},
   "outputs": [
    {
     "name": "stdout",
     "output_type": "stream",
     "text": [
      "┌─────────────┬──────────────────────┬──────────────────────┬────────────────────────────────────┬─────────────────────┐\n",
      "│     id      │         type         │        actor         │                repo                │     created_at      │\n",
      "│   varchar   │       varchar        │ struct(id integer,…  │ struct(id integer, \"name\" varcha…  │      timestamp      │\n",
      "├─────────────┼──────────────────────┼──────────────────────┼────────────────────────────────────┼─────────────────────┤\n",
      "│ 27400475723 │ DeleteEvent          │ {'id': 49699333, '…  │ {'id': 146641150, 'name': tekton…  │ 2023-03-01 00:00:00 │\n",
      "│ 27400475733 │ IssuesEvent          │ {'id': 1882561, 'l…  │ {'id': 172130649, 'name': cph/Se…  │ 2023-03-01 00:00:00 │\n",
      "│ 27400475735 │ CreateEvent          │ {'id': 62541748, '…  │ {'id': 607237316, 'name': darthw…  │ 2023-03-01 00:00:00 │\n",
      "│ 27400475736 │ PushEvent            │ {'id': 8517910, 'l…  │ {'id': 410004573, 'name': Lombiq…  │ 2023-03-01 00:00:00 │\n",
      "│ 27400475739 │ PushEvent            │ {'id': 122495445, …  │ {'id': 587937207, 'name': yanocu…  │ 2023-03-01 00:00:00 │\n",
      "│ 27400475752 │ PushEvent            │ {'id': 110081614, …  │ {'id': 592403564, 'name': AlexZe…  │ 2023-03-01 00:00:00 │\n",
      "│ 27400475776 │ CreateEvent          │ {'id': 49699333, '…  │ {'id': 305729619, 'name': novece…  │ 2023-03-01 00:00:00 │\n",
      "│ 27400475782 │ PullRequestEvent     │ {'id': 49699333, '…  │ {'id': 390008202, 'name': goog1y…  │ 2023-03-01 00:00:00 │\n",
      "│ 27400475790 │ PushEvent            │ {'id': 1129375, 'l…  │ {'id': 607355028, 'name': UWDATA…  │ 2023-03-01 00:00:00 │\n",
      "│ 27400475795 │ PushEvent            │ {'id': 49142438, '…  │ {'id': 566128388, 'name': Petmue…  │ 2023-03-01 00:00:00 │\n",
      "│      ·      │     ·                │          ·           │                 ·                  │          ·          │\n",
      "│      ·      │     ·                │          ·           │                 ·                  │          ·          │\n",
      "│      ·      │     ·                │          ·           │                 ·                  │          ·          │\n",
      "│ 27400528781 │ PushEvent            │ {'id': 91034392, '…  │ {'id': 480884447, 'name': MAXBER…  │ 2023-03-01 00:03:25 │\n",
      "│ 27400528789 │ PullRequestReviewC…  │ {'id': 26334334, '…  │ {'id': 549857084, 'name': aws/ka…  │ 2023-03-01 00:03:24 │\n",
      "│ 27400528800 │ PullRequestReviewC…  │ {'id': 18197013, '…  │ {'id': 146504364, 'name': OneCom…  │ 2023-03-01 00:03:24 │\n",
      "│ 27400528784 │ PullRequestEvent     │ {'id': 41898282, '…  │ {'id': 201294750, 'name': gridap…  │ 2023-03-01 00:03:25 │\n",
      "│ 27400528790 │ WatchEvent           │ {'id': 85803124, '…  │ {'id': 393389928, 'name': Redth/…  │ 2023-03-01 00:03:25 │\n",
      "│ 27400528793 │ CreateEvent          │ {'id': 49699333, '…  │ {'id': 470610964, 'name': adoerr…  │ 2023-03-01 00:03:25 │\n",
      "│ 27400528795 │ PullRequestEvent     │ {'id': 49699333, '…  │ {'id': 497913562, 'name': pyansy…  │ 2023-03-01 00:03:25 │\n",
      "│ 27400528796 │ CreateEvent          │ {'id': 49699333, '…  │ {'id': 497913562, 'name': pyansy…  │ 2023-03-01 00:03:25 │\n",
      "│ 27400528797 │ PushEvent            │ {'id': 102145071, …  │ {'id': 586980912, 'name': mel-kv…  │ 2023-03-01 00:03:25 │\n",
      "│ 27400528801 │ PushEvent            │ {'id': 41898282, '…  │ {'id': 315296027, 'name': kyoh86…  │ 2023-03-01 00:03:25 │\n",
      "├─────────────┴──────────────────────┴──────────────────────┴────────────────────────────────────┴─────────────────────┤\n",
      "│ ? rows (>9999 rows, 20 shown)                                                                              5 columns │\n",
      "└──────────────────────────────────────────────────────────────────────────────────────────────────────────────────────┘\n",
      "\n"
     ]
    }
   ],
   "source": [
    "df.show()"
   ]
  },
  {
   "cell_type": "code",
   "execution_count": 16,
   "metadata": {},
   "outputs": [
    {
     "data": {
      "text/html": [
       "<div><style>\n",
       ".dataframe > thead > tr > th,\n",
       ".dataframe > tbody > tr > td {\n",
       "  text-align: right;\n",
       "}\n",
       "</style>\n",
       "<small>shape: (5, 5)</small><table border=\"1\" class=\"dataframe\"><thead><tr><th>id</th><th>type</th><th>actor</th><th>repo</th><th>created_at</th></tr><tr><td>str</td><td>str</td><td>struct[6]</td><td>struct[3]</td><td>datetime[μs]</td></tr></thead><tbody><tr><td>&quot;27400475723&quot;</td><td>&quot;DeleteEvent&quot;</td><td>{49699333,&quot;dependabot[bot]&quot;,&quot;dependabot&quot;,&quot;&quot;,&quot;https://api.github.com/users/dependabot[bot]&quot;,&quot;https://avatars.githubusercontent.com/u/49699333?&quot;}</td><td>{146641150,&quot;tektoncd/pipeline&quot;,&quot;https://api.github.com/repos/tektoncd/pipeline&quot;}</td><td>2023-03-01 00:00:00</td></tr><tr><td>&quot;27400475733&quot;</td><td>&quot;IssuesEvent&quot;</td><td>{1882561,&quot;houstonbot&quot;,&quot;houstonbot&quot;,&quot;&quot;,&quot;https://api.github.com/users/houstonbot&quot;,&quot;https://avatars.githubusercontent.com/u/1882561?&quot;}</td><td>{172130649,&quot;cph/SearchWithModifiers&quot;,&quot;https://api.github.com/repos/cph/SearchWithModifiers&quot;}</td><td>2023-03-01 00:00:00</td></tr><tr><td>&quot;27400475735&quot;</td><td>&quot;CreateEvent&quot;</td><td>{62541748,&quot;Dominik-Seiler&quot;,&quot;Dominik-Seiler&quot;,&quot;&quot;,&quot;https://api.github.com/users/Dominik-Seiler&quot;,&quot;https://avatars.githubusercontent.com/u/62541748?&quot;}</td><td>{607237316,&quot;darthweiter/exoplanet&quot;,&quot;https://api.github.com/repos/darthweiter/exoplanet&quot;}</td><td>2023-03-01 00:00:00</td></tr><tr><td>&quot;27400475736&quot;</td><td>&quot;PushEvent&quot;</td><td>{8517910,&quot;LombiqBot&quot;,&quot;LombiqBot&quot;,&quot;&quot;,&quot;https://api.github.com/users/LombiqBot&quot;,&quot;https://avatars.githubusercontent.com/u/8517910?&quot;}</td><td>{410004573,&quot;Lombiq/TheResumeTheme&quot;,&quot;https://api.github.com/repos/Lombiq/TheResumeTheme&quot;}</td><td>2023-03-01 00:00:00</td></tr><tr><td>&quot;27400475739&quot;</td><td>&quot;PushEvent&quot;</td><td>{122495445,&quot;yanocuangana&quot;,&quot;yanocuangana&quot;,&quot;&quot;,&quot;https://api.github.com/users/yanocuangana&quot;,&quot;https://avatars.githubusercontent.com/u/122495445?&quot;}</td><td>{587937207,&quot;yanocuangana/wdd130&quot;,&quot;https://api.github.com/repos/yanocuangana/wdd130&quot;}</td><td>2023-03-01 00:00:00</td></tr></tbody></table></div>"
      ],
      "text/plain": [
       "shape: (5, 5)\n",
       "┌─────────────┬─────────────┬────────────────────────┬───────────────────────┬─────────────────────┐\n",
       "│ id          ┆ type        ┆ actor                  ┆ repo                  ┆ created_at          │\n",
       "│ ---         ┆ ---         ┆ ---                    ┆ ---                   ┆ ---                 │\n",
       "│ str         ┆ str         ┆ struct[6]              ┆ struct[3]             ┆ datetime[μs]        │\n",
       "╞═════════════╪═════════════╪════════════════════════╪═══════════════════════╪═════════════════════╡\n",
       "│ 27400475723 ┆ DeleteEvent ┆ {49699333,\"dependabot[ ┆ {146641150,\"tektoncd/ ┆ 2023-03-01 00:00:00 │\n",
       "│             ┆             ┆ bot]\",\"dep…            ┆ pipeline\",\"…          ┆                     │\n",
       "│ 27400475733 ┆ IssuesEvent ┆ {1882561,\"houstonbot\", ┆ {172130649,\"cph/Searc ┆ 2023-03-01 00:00:00 │\n",
       "│             ┆             ┆ \"houstonbo…            ┆ hWithModifi…          ┆                     │\n",
       "│ 27400475735 ┆ CreateEvent ┆ {62541748,\"Dominik-Sei ┆ {607237316,\"darthweit ┆ 2023-03-01 00:00:00 │\n",
       "│             ┆             ┆ ler\",\"Domi…            ┆ er/exoplane…          ┆                     │\n",
       "│ 27400475736 ┆ PushEvent   ┆ {8517910,\"LombiqBot\",\" ┆ {410004573,\"Lombiq/Th ┆ 2023-03-01 00:00:00 │\n",
       "│             ┆             ┆ LombiqBot\"…            ┆ eResumeThem…          ┆                     │\n",
       "│ 27400475739 ┆ PushEvent   ┆ {122495445,\"yanocuanga ┆ {587937207,\"yanocuang ┆ 2023-03-01 00:00:00 │\n",
       "│             ┆             ┆ na\",\"yanoc…            ┆ ana/wdd130\"…          ┆                     │\n",
       "└─────────────┴─────────────┴────────────────────────┴───────────────────────┴─────────────────────┘"
      ]
     },
     "execution_count": 16,
     "metadata": {},
     "output_type": "execute_result"
    }
   ],
   "source": [
    "df_pl = df.pl()\n",
    "df_pl.head()"
   ]
  },
  {
   "cell_type": "code",
   "execution_count": 17,
   "metadata": {},
   "outputs": [],
   "source": [
    "duckdb.sql(\n",
    "    \"\"\"\n",
    "    copy df\n",
    "    to '../2023-03-01-0.parquet' (format parquet)\n",
    "    \"\"\"\n",
    ")"
   ]
  },
  {
   "cell_type": "code",
   "execution_count": null,
   "metadata": {},
   "outputs": [],
   "source": []
  }
 ],
 "metadata": {
  "kernelspec": {
   "display_name": "venv",
   "language": "python",
   "name": "python3"
  },
  "language_info": {
   "codemirror_mode": {
    "name": "ipython",
    "version": 3
   },
   "file_extension": ".py",
   "mimetype": "text/x-python",
   "name": "python",
   "nbconvert_exporter": "python",
   "pygments_lexer": "ipython3",
   "version": "3.10.10"
  },
  "orig_nbformat": 4
 },
 "nbformat": 4,
 "nbformat_minor": 2
}
