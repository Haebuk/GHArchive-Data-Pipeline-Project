{
 "cells": [
  {
   "cell_type": "code",
   "execution_count": 1,
   "metadata": {},
   "outputs": [],
   "source": [
    "import polars as pl\n",
    "import json\n",
    "import gzip"
   ]
  },
  {
   "cell_type": "code",
   "execution_count": 11,
   "metadata": {},
   "outputs": [],
   "source": [
    "file_name = \"../data/2022-01-01-17\"\n",
    "with gzip.open(f\"{file_name}.json.gz\", 'rb') as gzip_file, open(f'{file_name}.json', 'wb') as decompressed_file:\n",
    "    decompressed_file.write(gzip_file.read())"
   ]
  },
  {
   "cell_type": "code",
   "execution_count": 12,
   "metadata": {},
   "outputs": [],
   "source": [
    "# Specify the path to the input file and output file\n",
    "input_file_path = '../data/2022-01-01-17.json'\n",
    "output_file_path = '../data/combined/2022-01-01-17.json'\n",
    "\n",
    "# Read the input file and load the JSON data\n",
    "with open(input_file_path, 'r') as f:\n",
    "    json_data = f.read()\n",
    "\n",
    "# Split the JSON data into individual dictionaries\n",
    "dicts = json_data.strip().split('\\n')\n"
   ]
  },
  {
   "cell_type": "code",
   "execution_count": 14,
   "metadata": {},
   "outputs": [],
   "source": [
    "dict_list = [json.loads(d) for d in dicts]"
   ]
  },
  {
   "cell_type": "code",
   "execution_count": 15,
   "metadata": {},
   "outputs": [],
   "source": [
    "dict_list = []\n",
    "for d in dicts:\n",
    "    dict_list.append(json.loads(d))"
   ]
  },
  {
   "cell_type": "code",
   "execution_count": 18,
   "metadata": {},
   "outputs": [
    {
     "name": "stdout",
     "output_type": "stream",
     "text": [
      "6.24 s ± 117 ms per loop (mean ± std. dev. of 7 runs, 1 loop each)\n"
     ]
    }
   ],
   "source": [
    "%%timeit\n",
    "with open(output_file_path, 'w') as f:\n",
    "    json.dump(dict_list, f)"
   ]
  },
  {
   "cell_type": "code",
   "execution_count": 19,
   "metadata": {},
   "outputs": [],
   "source": [
    "def save_dicts_to_json_file(dicts_list, filename):\n",
    "    with open(filename, 'w') as outfile:\n",
    "        outfile.write(\"[\")\n",
    "        first_dict = True\n",
    "        for d in dicts_list:\n",
    "            if not first_dict:\n",
    "                outfile.write(\",\")\n",
    "            json.dump(d, outfile)\n",
    "            first_dict = False\n",
    "        outfile.write(\"]\")"
   ]
  },
  {
   "cell_type": "code",
   "execution_count": 20,
   "metadata": {},
   "outputs": [
    {
     "name": "stdout",
     "output_type": "stream",
     "text": [
      "5.86 s ± 43.9 ms per loop (mean ± std. dev. of 7 runs, 1 loop each)\n"
     ]
    }
   ],
   "source": [
    "%%timeit\n",
    "\n",
    "save_dicts_to_json_file(dict_list, output_file_path)"
   ]
  },
  {
   "cell_type": "code",
   "execution_count": 21,
   "metadata": {},
   "outputs": [],
   "source": [
    "save_dicts_to_json_file(dict_list, output_file_path)"
   ]
  },
  {
   "cell_type": "code",
   "execution_count": null,
   "metadata": {},
   "outputs": [],
   "source": []
  }
 ],
 "metadata": {
  "kernelspec": {
   "display_name": "venv",
   "language": "python",
   "name": "python3"
  },
  "language_info": {
   "codemirror_mode": {
    "name": "ipython",
    "version": 3
   },
   "file_extension": ".py",
   "mimetype": "text/x-python",
   "name": "python",
   "nbconvert_exporter": "python",
   "pygments_lexer": "ipython3",
   "version": "3.10.10"
  },
  "orig_nbformat": 4
 },
 "nbformat": 4,
 "nbformat_minor": 2
}
